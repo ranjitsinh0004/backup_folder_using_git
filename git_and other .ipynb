{
 "metadata": {
  "language_info": {
   "codemirror_mode": {
    "name": "ipython",
    "version": 3
   },
   "file_extension": ".py",
   "mimetype": "text/x-python",
   "name": "python",
   "nbconvert_exporter": "python",
   "pygments_lexer": "ipython3",
   "version": "3.6.9-final"
  },
  "orig_nbformat": 2,
  "kernelspec": {
   "name": "python36964bit773e94f5c5054b2ba9cb2090b96ac9e6",
   "display_name": "Python 3.6.9 64-bit"
  }
 },
 "nbformat": 4,
 "nbformat_minor": 2,
 "cells": [
  {
   "cell_type": "markdown",
   "metadata": {},
   "source": [
    "### jupyter cheatsheet\n",
    "- ref: https://medium.com/ibm-data-science-experience/markdown-for-jupyter-notebooks-cheatsheet-386c05aeebed\n"
   ]
  },
  {
   "cell_type": "markdown",
   "metadata": {},
   "source": [
    "### how to create the new branch and switch in between the branches"
   ]
  },
  {
   "cell_type": "markdown",
   "metadata": {},
   "source": [
    "- creating new branch    \n",
    "    ranjit@ranjit-ThinkPad-X240:~/eco_dir/central-api$ git checkout `backup_branch`"
   ]
  },
  {
   "cell_type": "markdown",
   "metadata": {},
   "source": [
    "- The asterisk next to “develop” in the second line of the output indicates that we are currently on that branch.      \n",
    "      ranjit@ranjit-ThinkPad-X240:~/eco_dir/central-api$ git branch -a   \n",
    "            backup_branch   \n",
    "          * develop    \n"
   ]
  },
  {
   "cell_type": "markdown",
   "metadata": {},
   "source": [
    "- switching to backup_branch    \n",
    "        ranjit@ranjit-ThinkPad-X240:~/eco_dir/central-api$ git checkout backup_branch\n",
    "\n",
    "                   Switched to branch 'backup_branch' "
   ]
  },
  {
   "cell_type": "markdown",
   "metadata": {},
   "source": [
    "- ranjit@ranjit-ThinkPad-X240:~/eco_dir/central-api$ git branch -a        \n",
    "        * backup_branch              \n",
    "        develop "
   ]
  },
  {
   "cell_type": "markdown",
   "metadata": {},
   "source": [
    "### how to delete a branch"
   ]
  },
  {
   "cell_type": "markdown",
   "metadata": {},
   "source": [
    "- delete     \n",
    "    ranjit@ranjit-ThinkPad-X240:~/eco_dir/central-api$ git branch -D backup_branch\n"
   ]
  },
  {
   "cell_type": "markdown",
   "metadata": {},
   "source": [
    "### how to delete git remote\n",
    "- ranjit@ranjit-ThinkPad-X240:~/eco_dir/central-api$ git remote rm backup"
   ]
  },
  {
   "cell_type": "markdown",
   "metadata": {},
   "source": [
    "- if there are multiple branches for code folder and you want to pull code folder to code_backup always pull from the active branch of code folder\n"
   ]
  },
  {
   "cell_type": "markdown",
   "metadata": {},
   "source": [
    "ranjit@ranjit-ThinkPad-X240:~/code$ git branch -a     \n",
    "  master    \n",
    "`* new_branch`\n"
   ]
  },
  {
   "cell_type": "markdown",
   "metadata": {},
   "source": [
    "- change folder to code_backup     \n",
    "ranjit@ranjit-ThinkPad-X240:~/code_backup$ git pull backup new_branch\n"
   ]
  },
  {
   "cell_type": "markdown",
   "metadata": {},
   "source": []
  },
  {
   "cell_type": "markdown",
   "metadata": {},
   "source": [
    "### how to add a single file out of multiple files to remote server at github?\n",
    "- ranjit@ranjit-ThinkPad-X240:~/rsg_resource$ git add backup_folder_using_git.ipynb\n",
    "- `backup_folder_using_git.ipynb` is the name of file to be added to remote\n"
   ]
  },
  {
   "cell_type": "markdown",
   "metadata": {},
   "source": [
    "### git error: On branch master Your branch is ahead of 'upstream/master' by 1 commit.\n",
    "(use \"git push\" to publish your local commits)\n"
   ]
  },
  {
   "cell_type": "markdown",
   "metadata": {},
   "source": [
    "- ref: https://stackoverflow.com/questions/10169328/git-your-branch-is-ahead-of-origin-master-by-1-commit\n",
    "- git reset HEAD^ --soft (Save your changes, back to last commit)\n",
    "- git reset HEAD^ --hard (Discard changes, back to last commit)"
   ]
  }
 ]
}