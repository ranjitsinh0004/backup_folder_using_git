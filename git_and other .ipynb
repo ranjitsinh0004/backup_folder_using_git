{
 "metadata": {
  "language_info": {
   "codemirror_mode": {
    "name": "ipython",
    "version": 3
   },
   "file_extension": ".py",
   "mimetype": "text/x-python",
   "name": "python",
   "nbconvert_exporter": "python",
   "pygments_lexer": "ipython3",
   "version": "3.6.9-final"
  },
  "orig_nbformat": 2,
  "kernelspec": {
   "name": "python36964bit773e94f5c5054b2ba9cb2090b96ac9e6",
   "display_name": "Python 3.6.9 64-bit"
  }
 },
 "nbformat": 4,
 "nbformat_minor": 2,
 "cells": [
  {
   "cell_type": "markdown",
   "metadata": {},
   "source": [
    "### jupyter cheatsheet\n",
    "- ref: https://medium.com/ibm-data-science-experience/markdown-for-jupyter-notebooks-cheatsheet-386c05aeebed\n"
   ]
  },
  {
   "cell_type": "markdown",
   "metadata": {},
   "source": [
    "### How to create backup using git"
   ]
  },
  {
   "cell_type": "markdown",
   "metadata": {},
   "source": [
    "- ref: https://www.youtube.com/watch?v=Z4llrsNxSzs"
   ]
  },
  {
   "cell_type": "markdown",
   "metadata": {},
   "source": [
    "- create a backup folder e.g central_api_backup\n",
    "- add this as a remote to original folder. \n",
    "    * i.e central_api_backup is remote and central-api is original folder   \n",
    "         ranjit@ranjit-ThinkPad-X240:~/eco_dir/central-api$ git remote add `backup` /home/ranjit/eco_dir/central_api_backup\n",
    "            above line creates the connection between    central-api----->central_api_backup.... so that the changes made to \n",
    "            central-api can be nullified by using the central_api_backup.\n",
    "            also `backup` is unique ID.\n",
    "- see whether the backup is created or not    \n",
    "        * ranjit@ranjit-ThinkPad-X240:~/eco_dir/central-api$ git remote -v   \n",
    "                        backup\t/home/ranjit/eco_dir/central_api_backup (fetch)   \n",
    "                        backup\t/home/ranjit/eco_dir/central_api_backup (push)   \n",
    "                        origin\thttps://github.com/Ecolibrium-Energy/central-api.git (fetch)   \n",
    "                        origin\thttps://github.com/Ecolibrium-Energy/central-api.git (push)   \n",
    "\n",
    "- now set up the connection between central_api_backup---->central-api\n",
    "- ranjit@ranjit-ThinkPad-X240:~/eco_dir/central_api_backup$ git remote add original /home/ranjit/eco_dir/central-api\n",
    "- ranjit@ranjit-ThinkPad-X240:~/eco_dir/central_api_backup$ git remote -v        \n",
    "                        original\t/home/ranjit/eco_dir/central-api (fetch)\n",
    "                        original\t/home/ranjit/eco_dir/central-api (push)\n",
    "        \n",
    "   \n",
    "         \n",
    "        \n",
    "        "
   ]
  },
  {
   "cell_type": "markdown",
   "metadata": {},
   "source": [
    "#### creating backup folder codebase"
   ]
  },
  {
   "cell_type": "markdown",
   "metadata": {},
   "source": [
    "- code is the original folder while codebase is its backup folder\n",
    "- i.e codebase is remote and code is original folder"
   ]
  },
  {
   "cell_type": "markdown",
   "metadata": {},
   "source": [
    "- ranjit@ranjit-ThinkPad-X240:~$ mkdir code\n",
    "- ranjit@ranjit-ThinkPad-X240:~$ cd code\n",
    "- ranjit@ranjit-ThinkPad-X240:~/code$ touch test1.txt\n",
    "- ranjit@ranjit-ThinkPad-X240:~/code$ cd\n",
    "- ranjit@ranjit-ThinkPad-X240:~$ mkdir codebase\n",
    "- ranjit@ranjit-ThinkPad-X240:~$ cd code\n",
    "- ranjit@ranjit-ThinkPad-X240:~/code$ git init  \n",
    "    - Initialized empty Git repository in /home/ranjit/code/.git/  \n",
    "    ranjit@ranjit-ThinkPad-X240:~/code$ git status\n",
    "    On branch master\n",
    "\n",
    "    No commits yet\n",
    "\n",
    "    Untracked files:\n",
    "      (use \"git add <file>...\" to include in what will be committed)\n",
    "\n",
    "      test1.txt\n",
    "\n",
    "    nothing added to commit but untracked files present (use \"git add\" to track)\n",
    "- ranjit@ranjit-ThinkPad-X240:~/code$ git add .\n",
    "- ranjit@ranjit-ThinkPad-X240:~/code$ git commit -am \"first commit\"\n",
    "    - [master (root-commit) 444db36] first commit\n",
    "    1 file changed, 0 insertions(+), 0 deletions(-)\n",
    "    create mode 100644 test1.txt\n",
    "    ranjit@ranjit-ThinkPad-X240:~/code$ git status\n",
    "    On branch master\n",
    "    nothing to commit, working tree clean\n",
    "- ranjit@ranjit-ThinkPad-X240:~/code$ cd \n",
    "- ranjit@ranjit-ThinkPad-X240:~$ cd codebase\n",
    "- ranjit@ranjit-ThinkPad-X240:~/codebase$ git init\n",
    "    Initialized empty Git repository in /home/ranjit/codebase/.git/\n",
    "- ranjit@ranjit-ThinkPad-X240:~/codebase$ cd\n",
    "- ranjit@ranjit-ThinkPad-X240:~$ cd code\n",
    "- ranjit@ranjit-ThinkPad-X240:~/code$ git remote add backup /home/ranjit/codebase\n",
    "- ranjit@ranjit-ThinkPad-X240:~/code$ cd\n",
    "- ranjit@ranjit-ThinkPad-X240:~$ cd codebase\n",
    "- ranjit@ranjit-ThinkPad-X240:~/codebase$ git remote add original /home/ranjit/code\n",
    "- ranjit@ranjit-ThinkPad-X240:~/codebase$ git status\n",
    "    On branch master\n",
    "\n",
    "    No commits yet\n",
    "\n",
    "    nothing to commit (create/copy files and use \"git add\" to track)\n",
    "    ranjit@ranjit-ThinkPad-X240:~/codebase$ git pull original master\n",
    "    remote: Counting objects: 3, done.\n",
    "    remote: Total 3 (delta 0), reused 0 (delta 0)\n",
    "    Unpacking objects: 100% (3/3), done.\n",
    "    From /home/ranjit/code\n",
    "    * branch            master     -> FETCH_HEAD\n",
    "    * [new branch]      master     -> original/master\n",
    "- ranjit@ranjit-ThinkPad-X240:~/codebase$ git status\n",
    "    On branch master\n",
    "    nothing to commit, working tree clean\n",
    "- ranjit@ranjit-ThinkPad-X240:~/codebase$ \n"
   ]
  },
  {
   "cell_type": "markdown",
   "metadata": {},
   "source": [
    "### restoring the changes made to the original folder i.e code\n",
    "- now suppose someone made changes to your original folder i.e code and you want your original folder back\n",
    "- pull that codebase to code\n",
    "- To pull the codebase you can write the steps or you can write one script to a batch file and run it.\n",
    "- But the batch file runs only in window to run batch file in ubuntu you have to use the `wine cmd`     \n",
    "        ref: https://wine.htmlvalidator.com/install-wine-on-ubuntu-18.04.html\n",
    "- moreover you can refer following video tutorial  \n",
    "        ref: https://www.youtube.com/watch?v=Wx8NbZEAPNM\n",
    "- you can use wine to run windows application on ubuntu or linux  \n",
    "        e.g suppose you want to install notepad++ on ubuntu"
   ]
  },
  {
   "cell_type": "markdown",
   "metadata": {},
   "source": [
    " ### restore.bat\n",
    "cd /home/ranjit/code   \n",
    "git clean -f    \n",
    "git checkout --*    \n",
    "git pull backup master      \n"
   ]
  },
  {
   "cell_type": "markdown",
   "metadata": {},
   "source": [
    "### or you can manually enter the following commands on the ubuntu terminal if wine is not working\n",
    "- ranjit@ranjit-ThinkPad-X240:~/codebase$ cd\n",
    "- ranjit@ranjit-ThinkPad-X240:~$ cd code\n",
    "- ranjit@ranjit-ThinkPad-X240:~/code$ git clean -f\n",
    "- ranjit@ranjit-ThinkPad-X240:~/code$ git checkout -- *\n",
    "- ranjit@ranjit-ThinkPad-X240:~/code$ git pull backup master     \n",
    "        From /home/ranjit/codebase     \n",
    "        branch master -> FETCH_HEAD     \n",
    "        new branch master -> backup/master     \n",
    "        Current branch master is up to date.    "
   ]
  },
  {
   "cell_type": "markdown",
   "metadata": {},
   "source": [
    "### how to create the new branch and switch in between the branches"
   ]
  },
  {
   "cell_type": "markdown",
   "metadata": {},
   "source": [
    "- creating new branch    \n",
    "    ranjit@ranjit-ThinkPad-X240:~/eco_dir/central-api$ git checkout `backup_branch`"
   ]
  },
  {
   "cell_type": "markdown",
   "metadata": {},
   "source": [
    "- The asterisk next to “develop” in the second line of the output indicates that we are currently on that branch.      \n",
    "      ranjit@ranjit-ThinkPad-X240:~/eco_dir/central-api$ git branch -a   \n",
    "            backup_branch   \n",
    "          * develop    \n"
   ]
  },
  {
   "cell_type": "markdown",
   "metadata": {},
   "source": [
    "- switching to backup_branch    \n",
    "        ranjit@ranjit-ThinkPad-X240:~/eco_dir/central-api$ git checkout backup_branch\n",
    "\n",
    "                   Switched to branch 'backup_branch' "
   ]
  },
  {
   "cell_type": "markdown",
   "metadata": {},
   "source": [
    "- ranjit@ranjit-ThinkPad-X240:~/eco_dir/central-api$ git branch -a        \n",
    "        * backup_branch              \n",
    "        develop "
   ]
  },
  {
   "cell_type": "markdown",
   "metadata": {},
   "source": [
    "### how to delete a branch"
   ]
  },
  {
   "cell_type": "markdown",
   "metadata": {},
   "source": [
    "- delete     \n",
    "    ranjit@ranjit-ThinkPad-X240:~/eco_dir/central-api$ git branch -D backup_branch\n"
   ]
  },
  {
   "cell_type": "markdown",
   "metadata": {},
   "source": [
    "### how to delete git remote\n",
    "- ranjit@ranjit-ThinkPad-X240:~/eco_dir/central-api$ git remote rm backup"
   ]
  },
  {
   "cell_type": "markdown",
   "metadata": {},
   "source": [
    "- if there are multiple branches for code folder and you want to pull code folder to code_backup always pull from the active branch of code folder\n"
   ]
  },
  {
   "cell_type": "markdown",
   "metadata": {},
   "source": [
    "ranjit@ranjit-ThinkPad-X240:~/code$ git branch -a     \n",
    "  master    \n",
    "`* new_branch`\n"
   ]
  },
  {
   "cell_type": "markdown",
   "metadata": {},
   "source": [
    "- change folder to code_backup     \n",
    "ranjit@ranjit-ThinkPad-X240:~/code_backup$ git pull backup new_branch\n"
   ]
  },
  {
   "cell_type": "markdown",
   "metadata": {},
   "source": []
  },
  {
   "cell_type": "markdown",
   "metadata": {},
   "source": [
    "### how to add a single file out of multiple files to remote server at github?\n",
    "- ranjit@ranjit-ThinkPad-X240:~/rsg_resource$ git add backup_folder_using_git.ipynb\n",
    "- `backup_folder_using_git.ipynb` is the name of file to be added to remote\n"
   ]
  }
 ]
}