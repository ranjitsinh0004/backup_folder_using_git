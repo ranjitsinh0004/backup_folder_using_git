{
 "metadata": {
  "language_info": {
   "codemirror_mode": {
    "name": "ipython",
    "version": 3
   },
   "file_extension": ".py",
   "mimetype": "text/x-python",
   "name": "python",
   "nbconvert_exporter": "python",
   "pygments_lexer": "ipython3",
   "version": "3.6.9-final"
  },
  "orig_nbformat": 2,
  "kernelspec": {
   "name": "python36964bit773e94f5c5054b2ba9cb2090b96ac9e6",
   "display_name": "Python 3.6.9 64-bit"
  }
 },
 "nbformat": 4,
 "nbformat_minor": 2,
 "cells": [
  {
   "cell_type": "markdown",
   "metadata": {},
   "source": [
    "### How to create backup using git"
   ]
  },
  {
   "cell_type": "markdown",
   "metadata": {},
   "source": [
    "- ref: https://www.youtube.com/watch?v=Z4llrsNxSzs"
   ]
  },
  {
   "cell_type": "markdown",
   "metadata": {},
   "source": [
    "- create a backup folder e.g central_api_backup\n",
    "- add this as a remote to original folder. \n",
    "    * i.e central_api_backup is remote and central-api is original folder   \n",
    "         ranjit@ranjit-ThinkPad-X240:~/eco_dir/central-api$ git remote add `backup` /home/ranjit/eco_dir/central_api_backup\n",
    "            above line creates the connection between    central-api----->central_api_backup.... so that the changes made to \n",
    "            central-api can be nullified by using the central_api_backup.\n",
    "            also `backup` is unique ID.\n",
    "- see whether the backup is created or not    \n",
    "        * ranjit@ranjit-ThinkPad-X240:~/eco_dir/central-api$ git remote -v   \n",
    "                        backup\t/home/ranjit/eco_dir/central_api_backup (fetch)   \n",
    "                        backup\t/home/ranjit/eco_dir/central_api_backup (push)   \n",
    "                        origin\thttps://github.com/Ecolibrium-Energy/central-api.git (fetch)   \n",
    "                        origin\thttps://github.com/Ecolibrium-Energy/central-api.git (push)   \n",
    "\n",
    "- now set up the connection between central_api_backup---->central-api      \n",
    "        * ranjit@ranjit-ThinkPad-X240:~/eco_dir/central_api_backup$ git remote add original /home/ranjit/eco_dir/central-api     \n",
    "        * ranjit@ranjit-ThinkPad-X240:~/eco_dir/central_api_backup$ git remote -v        \n",
    "                        original\t/home/ranjit/eco_dir/central-api (fetch)\n",
    "                        original\t/home/ranjit/eco_dir/central-api (push)\n",
    "        \n",
    "   \n",
    "         \n",
    "        \n",
    "        "
   ]
  },
  {
   "cell_type": "markdown",
   "metadata": {},
   "source": [
    "## how to run batch file on ubuntu \n",
    "ref: https://wine.htmlvalidator.com/install-wine-on-ubuntu-18.04.html"
   ]
  },
  {
   "cell_type": "markdown",
   "metadata": {},
   "source": [
    "### how to create the new branch and switch in between the branches"
   ]
  },
  {
   "cell_type": "markdown",
   "metadata": {},
   "source": [
    "- creating new branch    \n",
    "    ranjit@ranjit-ThinkPad-X240:~/eco_dir/central-api$ git checkout `backup_branch`"
   ]
  },
  {
   "cell_type": "markdown",
   "metadata": {},
   "source": [
    "- The asterisk next to “develop” in the second line of the output indicates that we are currently on that branch.      \n",
    "      ranjit@ranjit-ThinkPad-X240:~/eco_dir/central-api$ git branch -a   \n",
    "            backup_branch   \n",
    "          * develop    \n"
   ]
  },
  {
   "cell_type": "markdown",
   "metadata": {},
   "source": [
    "- switching to backup_branch    \n",
    "        ranjit@ranjit-ThinkPad-X240:~/eco_dir/central-api$ git checkout backup_branch\n",
    "\n",
    "                   Switched to branch 'backup_branch' "
   ]
  },
  {
   "cell_type": "markdown",
   "metadata": {},
   "source": [
    "- ranjit@ranjit-ThinkPad-X240:~/eco_dir/central-api$ git branch -a        \n",
    "        * backup_branch              \n",
    "        develop "
   ]
  },
  {
   "cell_type": "markdown",
   "metadata": {},
   "source": [
    "### how to delete a branch"
   ]
  },
  {
   "cell_type": "markdown",
   "metadata": {},
   "source": [
    "- delete     \n",
    "    ranjit@ranjit-ThinkPad-X240:~/eco_dir/central-api$ git branch -D backup_branch\n"
   ]
  },
  {
   "cell_type": "markdown",
   "metadata": {},
   "source": [
    "### how to delete git remote\n",
    "- ranjit@ranjit-ThinkPad-X240:~/eco_dir/central-api$ git remote rm backup"
   ]
  },
  {
   "cell_type": "markdown",
   "metadata": {},
   "source": [
    "- if there are multiple branches for code folder and you want to pull code folder to code_backup always pull from the active branch of code folder\n"
   ]
  },
  {
   "cell_type": "markdown",
   "metadata": {},
   "source": [
    "ranjit@ranjit-ThinkPad-X240:~/code$ git branch -a     \n",
    "  master    \n",
    "`* new_branch`\n"
   ]
  },
  {
   "cell_type": "markdown",
   "metadata": {},
   "source": [
    "- change folder to code_backup     \n",
    "ranjit@ranjit-ThinkPad-X240:~/code_backup$ git pull backup new_branch\n"
   ]
  },
  {
   "cell_type": "markdown",
   "metadata": {},
   "source": [
    "## TRIAL\n",
    "- REF: https://matthew-brett.github.io/curious-git/curious_remotes.html"
   ]
  },
  {
   "cell_type": "markdown",
   "metadata": {},
   "source": [
    "ranjit@ranjit-ThinkPad-X240:~/code$ git init\n",
    "Initialized empty Git repository in /home/ranjit/code/.git/\n",
    "ranjit@ranjit-ThinkPad-X240:~/code$ touch file1.txt\n",
    "ranjit@ranjit-ThinkPad-X240:~/code$ ls\n",
    "file1.txt\n",
    "ranjit@ranjit-ThinkPad-X240:~/code$ git add *\n",
    "ranjit@ranjit-ThinkPad-X240:~/code$ git commit -am \"first commit\"\n",
    "[master (root-commit) 5bc2403] first commit\n",
    " 1 file changed, 2 insertions(+)\n",
    " create mode 100644 file1.txt\n",
    "ranjit@ranjit-ThinkPad-X240:~/code$ git branch\n",
    "* master\n",
    "ranjit@ranjit-ThinkPad-X240:~/code$ git remote add /home/ranjit/code_backup\n",
    "usage: git remote add [<options>] <name> <url>\n",
    "\n",
    "    -f, --fetch           fetch the remote branches\n",
    "    --tags                import all tags and associated objects when fetching\n",
    "                          or do not fetch any tag at all (--no-tags)\n",
    "    -t, --track <branch>  branch(es) to track\n",
    "    -m, --master <branch>\n",
    "                          master branch\n",
    "    --mirror[=<push|fetch>]\n",
    "                          set up remote as a mirror to push to or fetch from\n",
    "\n",
    "ranjit@ranjit-ThinkPad-X240:~/code$ git remote add original  /home/ranjit/code_backup\n",
    "ranjit@ranjit-ThinkPad-X240:~/code$ git remote -v\n",
    "original\t/home/ranjit/code_backup (fetch)\n",
    "original\t/home/ranjit/code_backup (push)\n",
    "ranjit@ranjit-ThinkPad-X240:~/code$ cd \n",
    "ranjit@ranjit-ThinkPad-X240:~$ cd code_backup\n",
    "ranjit@ranjit-ThinkPad-X240:~/code_backup$ git init\n",
    "Initialized empty Git repository in /home/ranjit/code_backup/.git/\n",
    "ranjit@ranjit-ThinkPad-X240:~/code_backup$ cd\n",
    "ranjit@ranjit-ThinkPad-X240:~$ cd code\n",
    "ranjit@ranjit-ThinkPad-X240:~/code$ git push original\n",
    "fatal: The current branch master has no upstream branch.\n",
    "To push the current branch and set the remote as upstream, use\n",
    "\n",
    "    git push --set-upstream original master\n",
    "\n",
    "ranjit@ranjit-ThinkPad-X240:~/code$ git push --set-upstream original master\n",
    "Counting objects: 3, done.\n",
    "Delta compression using up to 4 threads.\n",
    "Compressing objects: 100% (2/2), done.\n",
    "Writing objects: 100% (3/3), 270 bytes | 270.00 KiB/s, done.\n",
    "Total 3 (delta 0), reused 0 (delta 0)\n",
    "remote: error: refusing to update checked out branch: refs/heads/master\n",
    "remote: error: By default, updating the current branch in a non-bare repository\n",
    "remote: is denied, because it will make the index and work tree inconsistent\n",
    "remote: with what you pushed, and will require 'git reset --hard' to match\n",
    "remote: the work tree to HEAD.\n",
    "remote: \n",
    "remote: You can set the 'receive.denyCurrentBranch' configuration variable\n",
    "remote: to 'ignore' or 'warn' in the remote repository to allow pushing into\n",
    "remote: its current branch; however, this is not recommended unless you\n",
    "remote: arranged to update its work tree to match what you pushed in some\n",
    "remote: other way.\n",
    "remote: \n",
    "remote: To squelch this message and still keep the default behaviour, set\n",
    "remote: 'receive.denyCurrentBranch' configuration variable to 'refuse'.\n",
    "To /home/ranjit/code_backup\n",
    " ! [remote rejected] master -> master (branch is currently checked out)\n",
    "error: failed to push some refs to '/home/ranjit/code_backup'\n",
    "ranjit@ranjit-ThinkPad-X240:~/code$ git push original master\n",
    "Counting objects: 3, done.\n",
    "Delta compression using up to 4 threads.\n",
    "Compressing objects: 100% (2/2), done.\n",
    "Writing objects: 100% (3/3), 270 bytes | 270.00 KiB/s, done.\n",
    "Total 3 (delta 0), reused 0 (delta 0)\n",
    "remote: error: refusing to update checked out branch: refs/heads/master\n",
    "remote: error: By default, updating the current branch in a non-bare repository\n",
    "remote: is denied, because it will make the index and work tree inconsistent\n",
    "remote: with what you pushed, and will require 'git reset --hard' to match\n",
    "remote: the work tree to HEAD.\n",
    "remote: \n",
    "remote: You can set the 'receive.denyCurrentBranch' configuration variable\n",
    "remote: to 'ignore' or 'warn' in the remote repository to allow pushing into\n",
    "remote: its current branch; however, this is not recommended unless you\n",
    "remote: arranged to update its work tree to match what you pushed in some\n",
    "remote: other way.\n",
    "remote: \n",
    "remote: To squelch this message and still keep the default behaviour, set\n",
    "remote: 'receive.denyCurrentBranch' configuration variable to 'refuse'.\n",
    "To /home/ranjit/code_backup\n",
    " ! [remote rejected] master -> master (branch is currently checked out)\n",
    "error: failed to push some refs to '/home/ranjit/code_backup'\n",
    "ranjit@ranjit-ThinkPad-X240:~/code$ cd\n",
    "ranjit@ranjit-ThinkPad-X240:~$ cd \n"
   ]
  },
  {
   "cell_type": "markdown",
   "metadata": {},
   "source": []
  }
 ]
}